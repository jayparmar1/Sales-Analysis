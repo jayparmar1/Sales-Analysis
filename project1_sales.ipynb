{
 "cells": [
  {
   "cell_type": "code",
   "execution_count": null,
   "id": "e6f25168-1303-4a58-beee-95b9f548dd7e",
   "metadata": {},
   "outputs": [],
   "source": [
    "import pandas as pd \n",
    "import numpy as np \n",
    "import matplotlib.pyplot as plt\n",
    "import seaborn as sns\n",
    "from sklearn.preprocessing import MinMaxScaler, StandardScaler, OneHotEncoder, LabelEncoder"
   ]
  },
  {
   "cell_type": "code",
   "execution_count": null,
   "id": "7c78cdea-ae2d-491c-bf13-badc1a627750",
   "metadata": {},
   "outputs": [],
   "source": [
    "data=pd.read_csv('/Users/pooja/Downloads/AusApparalSales4thQrt2020.csv')"
   ]
  },
  {
   "cell_type": "code",
   "execution_count": null,
   "id": "fa30db03-98cb-4013-9cd8-009cfeec5e31",
   "metadata": {},
   "outputs": [],
   "source": [
    "data"
   ]
  },
  {
   "cell_type": "markdown",
   "id": "e93dcf5e-a1a8-4bfb-802b-4b9b3f8f628e",
   "metadata": {},
   "source": [
    "1. Data Wrangling"
   ]
  },
  {
   "cell_type": "code",
   "execution_count": null,
   "id": "7f72ffa5-f585-4b64-9625-bf2686aa83cc",
   "metadata": {},
   "outputs": [],
   "source": [
    "data.head(10)"
   ]
  },
  {
   "cell_type": "code",
   "execution_count": null,
   "id": "50be1427-ade1-4139-9dff-1a0f4da1167f",
   "metadata": {},
   "outputs": [],
   "source": [
    "data.tail(10)"
   ]
  },
  {
   "cell_type": "code",
   "execution_count": null,
   "id": "080fb3d2-cbfd-43f8-bc24-6ffdbdbcbca2",
   "metadata": {},
   "outputs": [],
   "source": [
    "# converting column Date into a date time format \n",
    "data['Date'] = pd.to_datetime(data['Date'], format=\"%d-%b-%Y\")\n"
   ]
  },
  {
   "cell_type": "code",
   "execution_count": null,
   "id": "8004a074-8773-40a5-bc2f-238fab5fd6bc",
   "metadata": {},
   "outputs": [],
   "source": [
    "data.drop(columns=['Day'],inplace=True)"
   ]
  },
  {
   "cell_type": "code",
   "execution_count": null,
   "id": "c78d60e6-da4e-416f-924b-ef6a1f3f6bc4",
   "metadata": {},
   "outputs": [],
   "source": [
    "data"
   ]
  },
  {
   "cell_type": "code",
   "execution_count": null,
   "id": "4ab5a230-3144-468d-9c9d-a546200d12d0",
   "metadata": {},
   "outputs": [],
   "source": [
    "# Coverting Date column into Day, Month, And year column for proper analysis\n",
    "data['Day']=data['Date'].dt.day\n",
    "data['Month']=data['Date'].dt.month\n",
    "data['Year']=data['Date'].dt.year"
   ]
  },
  {
   "cell_type": "code",
   "execution_count": null,
   "id": "ffff4bcc-dca3-4de0-aa1a-9786276deef6",
   "metadata": {},
   "outputs": [],
   "source": [
    "data"
   ]
  },
  {
   "cell_type": "code",
   "execution_count": null,
   "id": "a3a380bd-3c9b-47b8-bfff-3ba868c91af9",
   "metadata": {},
   "outputs": [],
   "source": [
    "# Dropping Date column from the data set \n",
    "data.drop(columns=['Date'],inplace=True)"
   ]
  },
  {
   "cell_type": "code",
   "execution_count": null,
   "id": "c8be9fca-827d-4df9-b584-69bfedc3391a",
   "metadata": {},
   "outputs": [],
   "source": [
    "data"
   ]
  },
  {
   "cell_type": "code",
   "execution_count": null,
   "id": "52494b97-0ed5-407d-95eb-ddc52c13940e",
   "metadata": {},
   "outputs": [],
   "source": [
    "# Looking fot null Values\n",
    "data.isnull().sum()"
   ]
  },
  {
   "cell_type": "markdown",
   "id": "114c70d1-a5d5-43a1-9002-a0635c7484b7",
   "metadata": {},
   "source": [
    "No Null Values in the data set "
   ]
  },
  {
   "cell_type": "code",
   "execution_count": null,
   "id": "8ced90cb-b6d9-489f-8b9d-d6f4a4de5092",
   "metadata": {},
   "outputs": [],
   "source": [
    "# checking for duplicates data in the dataset\n",
    "data.duplicated().sum()"
   ]
  },
  {
   "cell_type": "code",
   "execution_count": null,
   "id": "7e0411a6-ac9f-4d4d-8ad8-4a7a3400c767",
   "metadata": {},
   "outputs": [],
   "source": [
    "data.info()"
   ]
  },
  {
   "cell_type": "code",
   "execution_count": null,
   "id": "3f42a6b7-b8c9-44d6-acc9-d421fe167f5d",
   "metadata": {},
   "outputs": [],
   "source": [
    "# performing onehot encoding for converting categorical values into  numerical values \n",
    "new_data=pd.get_dummies(data,columns=['Time','State','Group'],drop_first=True)"
   ]
  },
  {
   "cell_type": "code",
   "execution_count": null,
   "id": "ceff333f-9a98-4a46-abae-07dad97f6c26",
   "metadata": {},
   "outputs": [],
   "source": [
    "new_data"
   ]
  },
  {
   "cell_type": "code",
   "execution_count": null,
   "id": "d41db33b-bdca-48c9-aaf8-ee76356b53f9",
   "metadata": {},
   "outputs": [],
   "source": [
    "# performing MinMaxScalar technique on the dataset \n",
    "data_MMS=MinMaxScaler()"
   ]
  },
  {
   "cell_type": "code",
   "execution_count": null,
   "id": "05cfad8f-d24f-49c7-b084-c01fc1e50640",
   "metadata": {},
   "outputs": [],
   "source": [
    "data_df_MMS=data_MMS.fit_transform(new_data)"
   ]
  },
  {
   "cell_type": "code",
   "execution_count": null,
   "id": "455224e6-b6fb-4d0b-9520-1ce0ae586832",
   "metadata": {},
   "outputs": [],
   "source": [
    "# converting a MinMaxScalar values to a dataframe\n",
    "data_df=pd.DataFrame(data_df_MMS,columns=new_data.columns)\n"
   ]
  },
  {
   "cell_type": "code",
   "execution_count": null,
   "id": "9fbf7392-7887-4b03-b901-5dcd8d94949a",
   "metadata": {},
   "outputs": [],
   "source": [
    "# new data frame after performing Onehot encoding and MinMaxScalar\n",
    "data_df"
   ]
  },
  {
   "cell_type": "code",
   "execution_count": null,
   "id": "fccd2c6c-cc5e-4109-a0fe-b06f3c633383",
   "metadata": {},
   "outputs": [],
   "source": [
    "# GroupBY function "
   ]
  },
  {
   "cell_type": "code",
   "execution_count": null,
   "id": "b4d5f384-0a30-458a-9f8f-d59dd9b23fcd",
   "metadata": {},
   "outputs": [],
   "source": [
    "data.groupby('Time')['Sales'].mean()\n",
    "# here using group by you can tell during the moring hours there is more sales(average)"
   ]
  },
  {
   "cell_type": "code",
   "execution_count": null,
   "id": "602e4468-a4bf-4e83-9676-175ff223a504",
   "metadata": {},
   "outputs": [],
   "source": [
    "data.groupby('State')['Sales'].mean()\n",
    "# here you can see avearge sales of each state showing VIC has the highest sales average "
   ]
  },
  {
   "cell_type": "code",
   "execution_count": null,
   "id": "296ef149-dadd-48b6-9060-eadd481bad18",
   "metadata": {},
   "outputs": [],
   "source": [
    "data.groupby('Time')['Group'].max()\n",
    "# here you can see that every time the maximum group visitors is Women"
   ]
  },
  {
   "cell_type": "markdown",
   "id": "7560d5c4-994e-4c4a-a53f-2c30087330d6",
   "metadata": {},
   "source": [
    "2. Data Analysis"
   ]
  },
  {
   "cell_type": "code",
   "execution_count": null,
   "id": "60cebabc-54de-4320-9e64-852c2629dbb7",
   "metadata": {},
   "outputs": [],
   "source": [
    "# performing descriptive statistical analysis on a particular columns\n",
    "data['Sales'].describe()"
   ]
  },
  {
   "cell_type": "code",
   "execution_count": null,
   "id": "f99ed55c-54b0-441c-adfa-638733b8320a",
   "metadata": {},
   "outputs": [],
   "source": [
    "data['Unit'].describe()"
   ]
  },
  {
   "cell_type": "code",
   "execution_count": null,
   "id": "80e3519b-a74c-46ed-a12d-a717832193dc",
   "metadata": {},
   "outputs": [],
   "source": [
    "data[['Sales','Unit']].info()"
   ]
  },
  {
   "cell_type": "code",
   "execution_count": null,
   "id": "33a5523a-14ba-4160-b68f-24f397851663",
   "metadata": {},
   "outputs": [],
   "source": [
    "data[['Sales','Unit']].describe()"
   ]
  },
  {
   "cell_type": "code",
   "execution_count": null,
   "id": "a435d478-8bcb-4bd2-9bee-8f1dc59aff5f",
   "metadata": {},
   "outputs": [],
   "source": [
    "# Mean of both the columns \n",
    "data[['Sales','Unit']].mean()"
   ]
  },
  {
   "cell_type": "code",
   "execution_count": null,
   "id": "605d32dd-b742-486f-88b2-6fe570bf5532",
   "metadata": {},
   "outputs": [],
   "source": [
    "# Median of both the columns\n",
    "data[['Sales','Unit']].median()"
   ]
  },
  {
   "cell_type": "code",
   "execution_count": null,
   "id": "d619e62a-dbac-4943-b295-5a3c1b821215",
   "metadata": {},
   "outputs": [],
   "source": [
    "#STD of both the columns\n",
    "data[['Sales','Unit']].std()"
   ]
  },
  {
   "cell_type": "code",
   "execution_count": null,
   "id": "0a47c8d8-754b-4c02-b48b-d1dcc763ad6d",
   "metadata": {},
   "outputs": [],
   "source": [
    "# Mode of both the columns\n",
    "data[['Sales','Unit']].mode()"
   ]
  },
  {
   "cell_type": "code",
   "execution_count": null,
   "id": "204064af-8474-454a-8c04-45e5df3cfd81",
   "metadata": {},
   "outputs": [],
   "source": [
    "# group with the highest sales\n",
    "data.groupby('Group')['Sales'].sum().idxmax()"
   ]
  },
  {
   "cell_type": "code",
   "execution_count": null,
   "id": "02a9eff1-39d3-4fcf-9f44-cce39ea32026",
   "metadata": {},
   "outputs": [],
   "source": [
    "# group with the lowest sales\n",
    "data.groupby('Group')['Sales'].sum().idxmin()"
   ]
  },
  {
   "cell_type": "code",
   "execution_count": null,
   "id": "3a9fa85d-ce4b-4f40-ba99-80197c6830a5",
   "metadata": {},
   "outputs": [],
   "source": [
    "# coverting a day, year, month column to get weekly, monhtly and quaterly result analysis\n",
    "data['Date']=pd.to_datetime(data[['Year','Month','Day']])"
   ]
  },
  {
   "cell_type": "code",
   "execution_count": null,
   "id": "182f1294-1577-408d-99b7-163f00f93216",
   "metadata": {},
   "outputs": [],
   "source": [
    "data"
   ]
  },
  {
   "cell_type": "code",
   "execution_count": null,
   "id": "2e01ab46-5eab-4ac9-8d44-316a8d0000b6",
   "metadata": {},
   "outputs": [],
   "source": [
    "# Monthly Sales Analysis \n",
    "montly=data.groupby('Month')['Sales'].sum()\n",
    "montly.plot(label='Monthly Sales')\n",
    "plt.title('Monthly Sales analysis')\n",
    "plt.savefig('Monthly Sales analysis')\n",
    "# looking at the monthly analysis we can say that in the month of October having a good sales but in November\n",
    "# it got decrease and again got a increase in the month of December\n"
   ]
  },
  {
   "cell_type": "code",
   "execution_count": null,
   "id": "7804d3bb-365e-4f8d-aa08-b0884c832e35",
   "metadata": {},
   "outputs": [],
   "source": [
    "# Weekly Sales Analysis\n",
    "weekly=data.groupby(data['Date'].dt.isocalendar().week)['Sales'].sum()\n",
    "weekly.plot(label='Weekly Sales')\n",
    "plt.title('Weekly Sales analysis')\n",
    "plt.savefig('Weekly Sales analysis')\n",
    "# graph shows in the week 40-42 there was a increase and constant sales but after week 43 it started getting decrease and became \n",
    "# constant in the week 44-48 and it started increase till the week 50 and then a sudden decrease in the sales "
   ]
  },
  {
   "cell_type": "code",
   "execution_count": null,
   "id": "15589459-3041-4305-b5e0-0d617ac8cfbd",
   "metadata": {},
   "outputs": [],
   "source": [
    "# Daily Sales analysis\n",
    "daily=data.groupby('Day')['Sales'].sum()\n",
    "daily.plot(label='Daily Sales')\n",
    "plt.title('Daily Sales analysis')\n",
    "plt.savefig('Daily Sales analysis')\n",
    "# daily graph shows increase and decrease in the graph there is no constant sales on the daily basis "
   ]
  },
  {
   "cell_type": "code",
   "execution_count": null,
   "id": "eeaee634-7420-45a7-9b63-246701d77859",
   "metadata": {},
   "outputs": [],
   "source": [
    "# Quarter Sales Analysis \n",
    "data.groupby(data['Date'].dt.quarter)['Sales'].sum()"
   ]
  },
  {
   "cell_type": "markdown",
   "id": "aba0c8f4-9f4c-49e2-8c65-ff03a73aca2c",
   "metadata": {},
   "source": [
    "3. Data visualization "
   ]
  },
  {
   "cell_type": "code",
   "execution_count": null,
   "id": "acb3a987-c717-4cfc-a74e-71766beb0072",
   "metadata": {},
   "outputs": [],
   "source": [
    "# State-wise sales analysis for different demographic groups\n",
    "sns.barplot(data=data,x='State',y='Sales',hue='Group')\n",
    "plt.title('state-sales analysis across each Group')\n",
    "plt.savefig('state-sales analysis across each Group')\n",
    "# Looking at the graph we can say that all the groups has nearly equal contribution in the sales for all the states"
   ]
  },
  {
   "cell_type": "code",
   "execution_count": null,
   "id": "e40c1152-369d-48eb-9976-22c222661f4f",
   "metadata": {},
   "outputs": [],
   "source": [
    "# Group-wise sales analysis across states\n",
    "sns.barplot(data=data,x='Group',y='Sales',hue='State')\n",
    "plt.title('group-sales analysis across each State')\n",
    "plt.savefig('group-sales analysis across each State')\n",
    "\n",
    "# Looking at the graph we can see thta in all the groups the VIS has the highest sales and WA has the lowest "
   ]
  },
  {
   "cell_type": "code",
   "execution_count": null,
   "id": "4daaa72c-0c6a-4144-a475-1717268c72c0",
   "metadata": {},
   "outputs": [],
   "source": [
    "# Time of the day analysis\n",
    "sns.lineplot(data=data,x='Time',y='Sales')\n",
    "plt.title('Time-Sales Analysis')\n",
    "plt.savefig('Time-Sales Analysis')\n",
    "# looking at a Line grapg it is clearly visible that in the Morning there is more sales and after that we have slight decrease in \n",
    "# Afternooon and a decrease in the Evening"
   ]
  },
  {
   "cell_type": "code",
   "execution_count": null,
   "id": "2d2e375c-ccfc-4cdc-aaf6-e43794b31b19",
   "metadata": {},
   "outputs": [],
   "source": [
    "# 1. Using a bar graph it is easy to show a proper analysis of the columns also each variable is properly showed \n",
    "# 2. Using a bar graph it is easy to show a proper analysis of the columns also each variable is properly showed \n",
    "# 3. In the 3rd Graph have used a line plot beacause using line plot we will easily be able to see the decline or incline in the sales at a defined time"
   ]
  },
  {
   "cell_type": "code",
   "execution_count": null,
   "id": "2027ef56-0977-49d0-8215-2a5044dd1d9c",
   "metadata": {},
   "outputs": [],
   "source": []
  }
 ],
 "metadata": {
  "kernelspec": {
   "display_name": "Python 3 (ipykernel)",
   "language": "python",
   "name": "python3"
  },
  "language_info": {
   "codemirror_mode": {
    "name": "ipython",
    "version": 3
   },
   "file_extension": ".py",
   "mimetype": "text/x-python",
   "name": "python",
   "nbconvert_exporter": "python",
   "pygments_lexer": "ipython3",
   "version": "3.12.4"
  }
 },
 "nbformat": 4,
 "nbformat_minor": 5
}
